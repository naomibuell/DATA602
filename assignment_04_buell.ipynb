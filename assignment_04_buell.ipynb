{
 "cells": [
  {
   "cell_type": "markdown",
   "metadata": {},
   "source": [
    "# Q1: Create a class called BankAccount that has four attributes: bankname, firstname, lastname, and balance.\n",
    "\n",
    "The default balance should be set to 0.\n",
    "In addition, create ...\n",
    "- A method called `deposit()` that allows the user to make deposits into their balance.\n",
    "- A method called `withdrawal()` that allows the user to withdraw from their balance.\n",
    "- Withdrawal may not exceed the available balance. Hint: consider a conditional argument in your `withdrawal()` method.\n",
    "- Use the `__str__()` method in order to display the bank name, owner name, and current balance.\n",
    "- Make a series of deposits and withdrawals to test your class.\n",
    "\n"
   ]
  },
  {
   "cell_type": "code",
   "execution_count": 1,
   "metadata": {},
   "outputs": [],
   "source": [
    "\n",
    "# Creating a class, BankAccount\n",
    "class BankAccount: \n",
    "    # Initialize BankAccount objects w/ four attributes\n",
    "    def __init__(self, bankname, firstname, lastname, balance=0):\n",
    "        self.bankname = bankname\n",
    "        self.firstname = firstname\n",
    "        self.lastname = lastname\n",
    "        self.balance = balance\n",
    "\n",
    "    # Deposit method\n",
    "    def deposit(self, amount):\n",
    "        self.balance = self.balance + amount\n",
    "\n",
    "    # Withdrawal method\n",
    "    def withdrawal(self, amount):\n",
    "        if amount <= self.balance:\n",
    "            self.balance = self.balance - amount\n",
    "        else:\n",
    "            print(\"Your withdrawal amount, \", amount, \"exceeds the available balance.\")\n",
    "\n",
    "    # Printout\n",
    "    def __str__(self):\n",
    "        s = f\"{self.firstname} {self.lastname}'s {self.bankname} account: Balance = {self.balance}.\"\n",
    "        return s"
   ]
  },
  {
   "cell_type": "markdown",
   "metadata": {},
   "source": [
    "After creating the class, I will test it:"
   ]
  },
  {
   "cell_type": "code",
   "execution_count": 2,
   "metadata": {},
   "outputs": [
    {
     "name": "stdout",
     "output_type": "stream",
     "text": [
      "Naomi B's Fake Bank account: Balance = 1000000.\n",
      "After depositing 2000000.01 , Naomi B's Fake Bank account: Balance = 3000000.01.\n",
      "After withdrawing full account balance, Naomi B's Fake Bank account: Balance = 0.0.\n",
      "Your withdrawal amount,  3000000.01 exceeds the available balance.\n"
     ]
    }
   ],
   "source": [
    "# Testing class:\n",
    "# Initalizing BankAccount \n",
    "my_bank_account = BankAccount(\"Fake Bank\", \"Naomi\", \"B\", 1000000)\n",
    "print(my_bank_account)\n",
    "\n",
    "# Depositing $2,000,000.001 \n",
    "deposit_amt = 2000000.01\n",
    "my_bank_account.deposit(deposit_amt)\n",
    "print(\"After depositing\", deposit_amt,\",\", my_bank_account)\n",
    "\n",
    "# Withdrawing my full balance\n",
    "withdraw_amt = my_bank_account.balance\n",
    "my_bank_account.withdrawal(withdraw_amt)\n",
    "print(\"After withdrawing full account balance,\", my_bank_account)\n",
    "\n",
    "# Try to withdraw more\n",
    "my_bank_account.withdrawal(withdraw_amt)\n"
   ]
  },
  {
   "cell_type": "markdown",
   "metadata": {},
   "source": [
    "# Q2: Create a class Box that has attributes length and width that takes values for length and width upon construction (instantiation via the constructor).\n",
    "In addition, create…\n",
    "- A method called `render()` that prints out to the screen a box made with asterisks of length and width dimensions\n",
    "- A method called `invert()` that switches length and width with each other\n",
    "- Methods `get_area()` and `get_perimeter()` that return appropriate geometric calculations\n",
    "- A method called `double()` that doubles the size of the box. Hint: Pay attention to return value here.\n",
    "- Implement `__eq__` so that two boxes can be compared using `==`. Two boxes are equal if their respective lengths and widths are identical.\n",
    "- A method `print_dim()` that prints to screen the length and width details of the box\n",
    "- A method `get_dim()` that returns a tuple containing the length and width of the box\n",
    "- A method `combine()` that takes another box as an argument and increases the length and width by the dimensions of the box passed in\n",
    "- A method `get_hypot()` that finds the length of the diagonal that cuts through the middle\n",
    "- Instantiate 3 boxes of dimensions 5,10 , 3,4 and 5,10 and assign to variables box1,box2 and box3 respectively\n",
    "- Print dimension info for each using `print_dim()`\n",
    "- Evaluate if box1 == box2, and also evaluate if box1 == box3, print True or False to the screen accordingly\n",
    "- Combine box3 into box1 (i.e. `box1.combine()`)\n",
    "- Double the size of box2\n",
    "- Combine box2 into box1"
   ]
  },
  {
   "cell_type": "code",
   "execution_count": 3,
   "metadata": {},
   "outputs": [],
   "source": [
    "# python class\n",
    "class Box:   \n",
    "    def __init__(self, length=0.0, width=0.0):\n",
    "        if length >= 0 and width >= 0:\n",
    "            self.length = length\n",
    "            self.width = width\n",
    "        else:\n",
    "            print(\"Invalid length and/or width. Both must be a positive number.\")\n",
    "\n",
    "    # render() prints out to the screen a box made with asterisks of length and width dimensions\n",
    "    def render(self):\n",
    "        asterisk = \"*\"\n",
    "        for l in range(self.length):\n",
    "            print(asterisk * self.width)\n",
    "\n",
    "    # invert() switches length and width with each other\n",
    "    def invert(self):\n",
    "        old_length = self.length\n",
    "        old_width = self.width\n",
    "        self.width = old_length\n",
    "        self.length = old_width\n",
    "\n",
    "    # get_area()\n",
    "    def get_area(self):\n",
    "        return self.length * self.width\n",
    "    \n",
    "    # get_perimeter()\n",
    "    def get_perimeter(self):\n",
    "        return 2 * (self.length + self.width)\n",
    "    \n",
    "    # double() doubles the size of the box (length is doubled so area is twice as large).\n",
    "    def double(self):\n",
    "        self.length = self.length * 2\n",
    "\n",
    "    # __eq__: two boxes are equal if their respective lengths and widths are identical\n",
    "    def __eq__(self, other):\n",
    "        return (self.width == other.width) and (self.length == other.length)\n",
    "    \n",
    "    # print_dim() that prints to screen the length and width details of the box\n",
    "    def print_dim(self):\n",
    "        print(\"Length = \", self.length, \", width = \", self.width)\n",
    "\n",
    "    # combine() takes another box as an argument and increases the length and width by the dimensions of the box passed in\n",
    "    def combine(self, other):\n",
    "        self.length = self.length + other.length\n",
    "        self.width = self.width + other.width\n",
    "\n",
    "    # get_hypot() that finds the length of the diagonal that cuts through the middle (formula: a^2 + b^2 = c^2).\n",
    "    def get_hypot(self):\n",
    "        c_2 = self.length ** 2 + self.width ** 2\n",
    "        return c_2 ** .5"
   ]
  },
  {
   "cell_type": "markdown",
   "metadata": {},
   "source": [
    "Now that my class is defined, I will test it accordingly:"
   ]
  },
  {
   "cell_type": "code",
   "execution_count": 8,
   "metadata": {},
   "outputs": [
    {
     "name": "stdout",
     "output_type": "stream",
     "text": [
      "box1:\n",
      "Length =  5 , width =  10\n",
      "box2:\n",
      "Length =  3 , width =  4\n",
      "box3:\n",
      "Length =  5 , width =  10\n",
      "box1 == box2? False\n",
      "box1 == box3? True\n",
      "box1 combined with box3:\n",
      "Length =  10 , width =  20\n",
      "box 2 doubled:\n",
      "Length =  6 , width =  4\n",
      "200\n",
      "Area of box1: 200\n",
      "Perimeter of box1: 60\n",
      "Hypotenuse of box1: 22.360679774997898\n"
     ]
    }
   ],
   "source": [
    "\n",
    "# Test class\n",
    "# Instantiate 3 boxes of dimensions 5x10, 3x4, and 5x10 and assign to variables box1, box2, and box3, respectively.\n",
    "box1 = Box(5, 10)\n",
    "box2 = Box(3, 4)\n",
    "box3 = Box(5, 10)\n",
    "\n",
    "# Print dimension info for each using `print_dim()`:\n",
    "print(\"box1:\")\n",
    "box1.print_dim()\n",
    "print(\"box2:\")\n",
    "box2.print_dim()\n",
    "print(\"box3:\")\n",
    "box3.print_dim()\n",
    "\n",
    "# Evaluate if box1 == box2, and also evaluate if box1 == box3, print True or False to the screen accordingly\n",
    "print(\"box1 == box2?\", box1 == box2)\n",
    "print(\"box1 == box3?\", box1 == box3)\n",
    "\n",
    "# Combine box3 into box1\n",
    "box1.combine(box3)\n",
    "print(\"box1 combined with box3:\")\n",
    "box1.print_dim()\n",
    "\n",
    "# Double the size of box2\n",
    "box2.double()\n",
    "print(\"box 2 doubled:\")\n",
    "box2.print_dim()\n",
    "\n",
    "# Combine box2 into box1\n",
    "print(box1.get_area())\n",
    "\n",
    "# Additional tests:\n",
    "print(\"Area of box1:\", box1.get_area())\n",
    "print(\"Perimeter of box1:\", box1.get_perimeter())\n",
    "print(\"Hypotenuse of box1:\", box1.get_hypot())\n"
   ]
  }
 ],
 "metadata": {
  "kernelspec": {
   "display_name": "Python 3",
   "language": "python",
   "name": "python3"
  },
  "language_info": {
   "codemirror_mode": {
    "name": "ipython",
    "version": 3
   },
   "file_extension": ".py",
   "mimetype": "text/x-python",
   "name": "python",
   "nbconvert_exporter": "python",
   "pygments_lexer": "ipython3",
   "version": "3.12.5"
  }
 },
 "nbformat": 4,
 "nbformat_minor": 2
}
