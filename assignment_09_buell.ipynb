{
  "cells": [
    {
      "cell_type": "markdown",
      "metadata": {
        "colab_type": "text",
        "id": "view-in-github"
      },
      "source": [
        "<a href=\"https://colab.research.google.com/github/naomibuell/DATA602/blob/main/assignment_10.ipynb\" target=\"_parent\"><img src=\"https://colab.research.google.com/assets/colab-badge.svg\" alt=\"Open In Colab\"/></a>"
      ]
    },
    {
      "cell_type": "markdown",
      "metadata": {
        "id": "xqXbEBZtB8-u"
      },
      "source": [
        "# **Assignment 9**"
      ]
    },
    {
      "cell_type": "code",
      "execution_count": 8,
      "metadata": {
        "id": "Iqswq2_ak3e-"
      },
      "outputs": [],
      "source": [
        "# core\n",
        "import matplotlib.pyplot as plt\n",
        "import numpy as np\n",
        "import pandas as pd\n",
        "\n",
        "# ml\n",
        "from sklearn import datasets as ds\n",
        "from sklearn import linear_model as lm\n",
        "from sklearn.neighbors import KNeighborsClassifier as KNN\n",
        "from sklearn.model_selection import train_test_split as tts\n",
        "from sklearn.metrics import accuracy_score\n",
        "\n",
        "# plotly or other graphing library\n",
        "import seaborn as sns\n",
        "from sklearn.preprocessing import StandardScaler"
      ]
    },
    {
      "cell_type": "code",
      "execution_count": 9,
      "metadata": {
        "id": "92pRcki-k3kH"
      },
      "outputs": [],
      "source": [
        "# Load datasets here once and assign to variables iris\n",
        "\n",
        "iris = pd.read_csv('https://raw.githubusercontent.com/mwaskom/seaborn-data/master/iris.csv')"
      ]
    },
    {
      "cell_type": "markdown",
      "metadata": {
        "id": "lA9exQg2lFEn"
      },
      "source": [
        "**Q1**\n",
        "\n",
        "**Data set: Iris**\n",
        "\n",
        "* Return the first 5 rows of the data including the feature names as column headings in a DataFrame and a\n",
        "separate Python list containing target names"
      ]
    },
    {
      "cell_type": "code",
      "execution_count": 10,
      "metadata": {
        "id": "1kcEFauAlAxY"
      },
      "outputs": [
        {
          "name": "stdout",
          "output_type": "stream",
          "text": [
            "   sepal_length  sepal_width  petal_length  petal_width species\n",
            "0           5.1          3.5           1.4          0.2  setosa\n",
            "1           4.9          3.0           1.4          0.2  setosa\n",
            "2           4.7          3.2           1.3          0.2  setosa\n",
            "3           4.6          3.1           1.5          0.2  setosa\n",
            "4           5.0          3.6           1.4          0.2  setosa\n",
            "Type: <class 'pandas.core.frame.DataFrame'>\n"
          ]
        }
      ],
      "source": [
        "# Return the first 5 rows of the data, including the feature names as column headings in a df:\n",
        "iris_head = iris.head()\n",
        "print(iris_head)\n",
        "print(\"Type:\", type(iris_head))"
      ]
    },
    {
      "cell_type": "code",
      "execution_count": 11,
      "metadata": {},
      "outputs": [
        {
          "name": "stdout",
          "output_type": "stream",
          "text": [
            "['setosa', 'setosa', 'setosa', 'setosa', 'setosa', 'setosa', 'setosa', 'setosa', 'setosa', 'setosa', 'setosa', 'setosa', 'setosa', 'setosa', 'setosa', 'setosa', 'setosa', 'setosa', 'setosa', 'setosa', 'setosa', 'setosa', 'setosa', 'setosa', 'setosa', 'setosa', 'setosa', 'setosa', 'setosa', 'setosa', 'setosa', 'setosa', 'setosa', 'setosa', 'setosa', 'setosa', 'setosa', 'setosa', 'setosa', 'setosa', 'setosa', 'setosa', 'setosa', 'setosa', 'setosa', 'setosa', 'setosa', 'setosa', 'setosa', 'setosa', 'versicolor', 'versicolor', 'versicolor', 'versicolor', 'versicolor', 'versicolor', 'versicolor', 'versicolor', 'versicolor', 'versicolor', 'versicolor', 'versicolor', 'versicolor', 'versicolor', 'versicolor', 'versicolor', 'versicolor', 'versicolor', 'versicolor', 'versicolor', 'versicolor', 'versicolor', 'versicolor', 'versicolor', 'versicolor', 'versicolor', 'versicolor', 'versicolor', 'versicolor', 'versicolor', 'versicolor', 'versicolor', 'versicolor', 'versicolor', 'versicolor', 'versicolor', 'versicolor', 'versicolor', 'versicolor', 'versicolor', 'versicolor', 'versicolor', 'versicolor', 'versicolor', 'versicolor', 'versicolor', 'versicolor', 'versicolor', 'versicolor', 'versicolor', 'virginica', 'virginica', 'virginica', 'virginica', 'virginica', 'virginica', 'virginica', 'virginica', 'virginica', 'virginica', 'virginica', 'virginica', 'virginica', 'virginica', 'virginica', 'virginica', 'virginica', 'virginica', 'virginica', 'virginica', 'virginica', 'virginica', 'virginica', 'virginica', 'virginica', 'virginica', 'virginica', 'virginica', 'virginica', 'virginica', 'virginica', 'virginica', 'virginica', 'virginica', 'virginica', 'virginica', 'virginica', 'virginica', 'virginica', 'virginica', 'virginica', 'virginica', 'virginica', 'virginica', 'virginica', 'virginica', 'virginica', 'virginica', 'virginica', 'virginica']\n",
            "Type: <class 'list'>\n"
          ]
        }
      ],
      "source": [
        "# Return a separate Python list of target names\n",
        "target_names = iris['species'].tolist()\n",
        "print(target_names)\n",
        "print(\"Type:\", type(target_names))"
      ]
    },
    {
      "cell_type": "markdown",
      "metadata": {
        "id": "o2GEIhqzlT-i"
      },
      "source": [
        "**Q2**\n",
        "\n",
        "**Data set: Iris**\n",
        "\n",
        "* Fit the Iris dataset into a kNN model with neighbors=5 and predict the category of observations passed in\n",
        "argument new_observations. Return back the target names of each prediction (and not their encoded values,\n",
        " i.e. return setosa instead of 0)."
      ]
    },
    {
      "cell_type": "code",
      "execution_count": 12,
      "metadata": {
        "id": "wyqbRKh5lAzg"
      },
      "outputs": [
        {
          "name": "stdout",
          "output_type": "stream",
          "text": [
            "['setosa' 'setosa' 'setosa' 'setosa' 'setosa' 'setosa' 'setosa' 'setosa'\n",
            " 'setosa' 'setosa' 'setosa' 'setosa' 'setosa' 'setosa' 'setosa' 'setosa'\n",
            " 'setosa' 'setosa' 'setosa' 'setosa' 'setosa' 'setosa' 'setosa' 'setosa'\n",
            " 'setosa' 'setosa' 'setosa' 'setosa' 'setosa' 'setosa' 'setosa' 'setosa'\n",
            " 'setosa' 'setosa' 'setosa' 'setosa' 'setosa' 'setosa' 'setosa' 'setosa'\n",
            " 'setosa' 'setosa' 'setosa' 'setosa' 'setosa' 'setosa' 'setosa' 'setosa'\n",
            " 'setosa' 'setosa' 'versicolor' 'versicolor' 'versicolor' 'versicolor'\n",
            " 'versicolor' 'versicolor' 'versicolor' 'versicolor' 'versicolor'\n",
            " 'versicolor' 'versicolor' 'versicolor' 'versicolor' 'versicolor'\n",
            " 'versicolor' 'versicolor' 'versicolor' 'versicolor' 'versicolor'\n",
            " 'versicolor' 'virginica' 'versicolor' 'virginica' 'versicolor'\n",
            " 'versicolor' 'versicolor' 'versicolor' 'versicolor' 'versicolor'\n",
            " 'versicolor' 'versicolor' 'versicolor' 'versicolor' 'virginica'\n",
            " 'versicolor' 'versicolor' 'versicolor' 'versicolor' 'versicolor'\n",
            " 'versicolor' 'versicolor' 'versicolor' 'versicolor' 'versicolor'\n",
            " 'versicolor' 'versicolor' 'versicolor' 'versicolor' 'versicolor'\n",
            " 'versicolor' 'virginica' 'virginica' 'virginica' 'virginica' 'virginica'\n",
            " 'virginica' 'versicolor' 'virginica' 'virginica' 'virginica' 'virginica'\n",
            " 'virginica' 'virginica' 'virginica' 'virginica' 'virginica' 'virginica'\n",
            " 'virginica' 'virginica' 'versicolor' 'virginica' 'virginica' 'virginica'\n",
            " 'virginica' 'virginica' 'virginica' 'virginica' 'virginica' 'virginica'\n",
            " 'virginica' 'virginica' 'virginica' 'virginica' 'virginica' 'virginica'\n",
            " 'virginica' 'virginica' 'virginica' 'virginica' 'virginica' 'virginica'\n",
            " 'virginica' 'virginica' 'virginica' 'virginica' 'virginica' 'virginica'\n",
            " 'virginica' 'virginica' 'virginica']\n"
          ]
        }
      ],
      "source": [
        "# Split the data into features (X) and target (y)\n",
        "X = iris.drop('species', axis=1)\n",
        "y = iris['species']\n",
        "\n",
        "# Fit the iris dataset into a kNN model with neighbors=5\n",
        "knn = KNN(n_neighbors=5)\n",
        "knn.fit(X, y)\n",
        "\n",
        "# Predict the category of observations\n",
        "new_observations = knn.predict(X)\n",
        "\n",
        "# Return back the target names of each prediction\n",
        "print(new_observations)"
      ]
    },
    {
      "cell_type": "markdown",
      "metadata": {
        "id": "aVMa16PflnBv"
      },
      "source": [
        "**Q3**\n",
        "\n",
        "**Data set: Iris**\n",
        "\n",
        "* Split the Iris dataset into a train / test model with the split ratio between the two established by the function parameter split.\n",
        "\n",
        "* Fit KNN with the training data with number of neighbors equal to the function parameter neighbors\n",
        "\n",
        "* Generate and return back an accuracy score using the test data that was split out"
      ]
    },
    {
      "cell_type": "code",
      "execution_count": 13,
      "metadata": {
        "id": "5VIRae0xlA20"
      },
      "outputs": [
        {
          "name": "stdout",
          "output_type": "stream",
          "text": [
            "Accuracy: 1.0\n"
          ]
        }
      ],
      "source": [
        "# Split the data into training and test sets\n",
        "X_train, X_test, y_train, y_test = tts(X, y, test_size=0.2, random_state=42)\n",
        "\n",
        "scaler = StandardScaler()\n",
        "X_train = scaler.fit_transform(X_train)\n",
        "X_test = scaler.transform(X_test)\n",
        "\n",
        "# Fit KNN with the training data with number of neighbors equal to the function parameter neighbors\n",
        "knn = KNN(n_neighbors=5)\n",
        "knn.fit(X_train, y_train)\n",
        "\n",
        "new_observations = knn.predict(X_test)\n",
        "\n",
        "# Generate and return back an accuracy score using the test data that was split out\n",
        "accuracy = accuracy_score(y_test, new_observations)\n",
        "print(\"Accuracy:\", accuracy)"
      ]
    },
    {
      "cell_type": "markdown",
      "metadata": {
        "id": "GupwxBDVl8n2"
      },
      "source": [
        "**Q4**\n",
        "\n",
        "**Data set: Iris**\n",
        "\n",
        "* Generate an overfitting / underfitting curve of kNN each of the testing and training accuracy performance scores series for a range of neighbor (k) values from 1 to 30 and plot the curves (number of neighbors is x-axis, performance score is y-axis on the chart)."
      ]
    },
    {
      "cell_type": "code",
      "execution_count": 14,
      "metadata": {
        "id": "M-6Ig8_QlA6J"
      },
      "outputs": [
        {
          "name": "stdout",
          "output_type": "stream",
          "text": [
            "[ 1  2  3  4  5  6  7  8  9 10 11 12 13 14 15 16 17 18 19 20 21 22 23 24\n",
            " 25 26 27 28 29 30] \n",
            " [1.0, 0.9666666666666667, 0.9416666666666667, 0.9583333333333334, 0.9583333333333334, 0.9583333333333334, 0.9583333333333334, 0.9583333333333334, 0.95, 0.9416666666666667, 0.9583333333333334, 0.9583333333333334, 0.9583333333333334, 0.9583333333333334, 0.9583333333333334, 0.9583333333333334, 0.95, 0.9583333333333334, 0.95, 0.9666666666666667, 0.95, 0.9583333333333334, 0.95, 0.95, 0.9583333333333334, 0.9666666666666667, 0.95, 0.9333333333333333, 0.925, 0.9333333333333333] \n",
            " [1.0, 1.0, 1.0, 1.0, 1.0, 1.0, 1.0, 1.0, 1.0, 1.0, 1.0, 1.0, 1.0, 1.0, 1.0, 1.0, 1.0, 1.0, 1.0, 1.0, 1.0, 1.0, 1.0, 1.0, 1.0, 0.9666666666666667, 1.0, 0.9666666666666667, 0.9666666666666667, 0.9666666666666667]\n"
          ]
        },
        {
          "data": {
            "image/png": "[encoded data removed]",
            "text/plain": [
              "<Figure size 640x480 with 1 Axes>"
            ]
          },
          "metadata": {},
          "output_type": "display_data"
        }
      ],
      "source": [
        "# Create neighbors\n",
        "neighbors = np.arange(1, 31) # range of neighbor (k) values from 1 to 30\n",
        "train_accuracies = []\n",
        "test_accuracies = []\n",
        "\n",
        "for neighbor in neighbors:\n",
        "      # Set up a KNN Classifier\n",
        "      knn = KNN(n_neighbors=neighbor)\n",
        "      \n",
        "      # Fit the model\n",
        "      knn.fit(X_train, y_train)\n",
        "      \n",
        "      # Compute accuracy\n",
        "      train_accuracies.append(knn.score(X_train, y_train))\n",
        "      test_accuracies.append(knn.score(X_test, y_test))\n",
        "print(neighbors, '\\n', train_accuracies, '\\n', test_accuracies)\n",
        "\n",
        "# Plot the overfitting/underfitting curve\n",
        "sns.lineplot(x = neighbors, y = train_accuracies, label='Training accuracy')\n",
        "sns.lineplot(x = neighbors, y = test_accuracies, label='Testing accuracy')\n",
        "plt.xlabel(\"K Values\")\n",
        "plt.ylabel(\"Accuracy Score\")\n",
        "plt.legend()\n",
        "plt.show()"
      ]
    }
  ],
  "metadata": {
    "colab": {
      "include_colab_link": true,
      "provenance": []
    },
    "kernelspec": {
      "display_name": "Python 3",
      "name": "python3"
    },
    "language_info": {
      "codemirror_mode": {
        "name": "ipython",
        "version": 3
      },
      "file_extension": ".py",
      "mimetype": "text/x-python",
      "name": "python",
      "nbconvert_exporter": "python",
      "pygments_lexer": "ipython3",
      "version": "3.12.5"
    }
  },
  "nbformat": 4,
  "nbformat_minor": 0
}
